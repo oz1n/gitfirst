{
 "cells": [
  {
   "cell_type": "code",
   "execution_count": 22,
   "metadata": {},
   "outputs": [],
   "source": [
    "import pandas as pd\n",
    "import numpy as np\n",
    "import matplotlib.pyplot as plt"
   ]
  },
  {
   "cell_type": "markdown",
   "metadata": {},
   "source": [
    "#### 練習：超市數據分析："
   ]
  },
  {
   "cell_type": "markdown",
   "metadata": {},
   "source": [
    "1. 那些類別商品比較暢銷？</br>\n",
    "2. 哪些商品比較暢銷？</br>\n",
    "3. 求不同門店的銷售額占比？</br>\n",
    "4. 那段時間是超市客流量高峰期？</br>"
   ]
  },
  {
   "cell_type": "code",
   "execution_count": 4,
   "metadata": {},
   "outputs": [
    {
     "data": {
      "text/html": [
       "<div>\n",
       "<style scoped>\n",
       "    .dataframe tbody tr th:only-of-type {\n",
       "        vertical-align: middle;\n",
       "    }\n",
       "\n",
       "    .dataframe tbody tr th {\n",
       "        vertical-align: top;\n",
       "    }\n",
       "\n",
       "    .dataframe thead th {\n",
       "        text-align: right;\n",
       "    }\n",
       "</style>\n",
       "<table border=\"1\" class=\"dataframe\">\n",
       "  <thead>\n",
       "    <tr style=\"text-align: right;\">\n",
       "      <th></th>\n",
       "      <th>商品ID</th>\n",
       "      <th>类别ID</th>\n",
       "      <th>门店编号</th>\n",
       "      <th>单价</th>\n",
       "      <th>销量</th>\n",
       "      <th>成交时间</th>\n",
       "      <th>订单ID</th>\n",
       "    </tr>\n",
       "  </thead>\n",
       "  <tbody>\n",
       "    <tr>\n",
       "      <th>0</th>\n",
       "      <td>30006206</td>\n",
       "      <td>915000003</td>\n",
       "      <td>CDNL</td>\n",
       "      <td>25.23</td>\n",
       "      <td>0.328</td>\n",
       "      <td>2017/1/3 9:56</td>\n",
       "      <td>20170103CDLG000210052759</td>\n",
       "    </tr>\n",
       "    <tr>\n",
       "      <th>1</th>\n",
       "      <td>30163281</td>\n",
       "      <td>914010000</td>\n",
       "      <td>CDNL</td>\n",
       "      <td>2.00</td>\n",
       "      <td>2.000</td>\n",
       "      <td>2017/1/3 9:56</td>\n",
       "      <td>20170103CDLG000210052759</td>\n",
       "    </tr>\n",
       "    <tr>\n",
       "      <th>2</th>\n",
       "      <td>30200518</td>\n",
       "      <td>922000000</td>\n",
       "      <td>CDNL</td>\n",
       "      <td>19.62</td>\n",
       "      <td>0.230</td>\n",
       "      <td>2017/1/3 9:56</td>\n",
       "      <td>20170103CDLG000210052759</td>\n",
       "    </tr>\n",
       "    <tr>\n",
       "      <th>3</th>\n",
       "      <td>29989105</td>\n",
       "      <td>922000000</td>\n",
       "      <td>CDNL</td>\n",
       "      <td>2.80</td>\n",
       "      <td>2.044</td>\n",
       "      <td>2017/1/3 9:56</td>\n",
       "      <td>20170103CDLG000210052759</td>\n",
       "    </tr>\n",
       "    <tr>\n",
       "      <th>4</th>\n",
       "      <td>30179558</td>\n",
       "      <td>915000100</td>\n",
       "      <td>CDNL</td>\n",
       "      <td>47.41</td>\n",
       "      <td>0.226</td>\n",
       "      <td>2017/1/3 9:56</td>\n",
       "      <td>20170103CDLG000210052759</td>\n",
       "    </tr>\n",
       "    <tr>\n",
       "      <th>...</th>\n",
       "      <td>...</td>\n",
       "      <td>...</td>\n",
       "      <td>...</td>\n",
       "      <td>...</td>\n",
       "      <td>...</td>\n",
       "      <td>...</td>\n",
       "      <td>...</td>\n",
       "    </tr>\n",
       "    <tr>\n",
       "      <th>3473</th>\n",
       "      <td>30031870</td>\n",
       "      <td>915030401</td>\n",
       "      <td>CDXL</td>\n",
       "      <td>6.58</td>\n",
       "      <td>0.862</td>\n",
       "      <td>2017/1/3 10:59</td>\n",
       "      <td>20170103CDLG000510025147</td>\n",
       "    </tr>\n",
       "    <tr>\n",
       "      <th>3474</th>\n",
       "      <td>30008276</td>\n",
       "      <td>911010501</td>\n",
       "      <td>CDXL</td>\n",
       "      <td>15.42</td>\n",
       "      <td>0.481</td>\n",
       "      <td>2017/1/3 11:00</td>\n",
       "      <td>20170103CDLG000510025148</td>\n",
       "    </tr>\n",
       "    <tr>\n",
       "      <th>3475</th>\n",
       "      <td>30033854</td>\n",
       "      <td>910000000</td>\n",
       "      <td>CDXL</td>\n",
       "      <td>9.62</td>\n",
       "      <td>1.000</td>\n",
       "      <td>2017/1/3 11:17</td>\n",
       "      <td>20170103CDLG000510025149</td>\n",
       "    </tr>\n",
       "    <tr>\n",
       "      <th>3476</th>\n",
       "      <td>30206214</td>\n",
       "      <td>910000000</td>\n",
       "      <td>CDXL</td>\n",
       "      <td>15.62</td>\n",
       "      <td>1.000</td>\n",
       "      <td>2017/1/3 11:40</td>\n",
       "      <td>20170103CDLG000510025150</td>\n",
       "    </tr>\n",
       "    <tr>\n",
       "      <th>3477</th>\n",
       "      <td>30129510</td>\n",
       "      <td>925090000</td>\n",
       "      <td>CDXL</td>\n",
       "      <td>23.21</td>\n",
       "      <td>0.312</td>\n",
       "      <td>2017/1/3 11:50</td>\n",
       "      <td>20170103CDLG000510025151</td>\n",
       "    </tr>\n",
       "  </tbody>\n",
       "</table>\n",
       "<p>3478 rows × 7 columns</p>\n",
       "</div>"
      ],
      "text/plain": [
       "          商品ID       类别ID  门店编号     单价     销量            成交时间  \\\n",
       "0     30006206  915000003  CDNL  25.23  0.328   2017/1/3 9:56   \n",
       "1     30163281  914010000  CDNL   2.00  2.000   2017/1/3 9:56   \n",
       "2     30200518  922000000  CDNL  19.62  0.230   2017/1/3 9:56   \n",
       "3     29989105  922000000  CDNL   2.80  2.044   2017/1/3 9:56   \n",
       "4     30179558  915000100  CDNL  47.41  0.226   2017/1/3 9:56   \n",
       "...        ...        ...   ...    ...    ...             ...   \n",
       "3473  30031870  915030401  CDXL   6.58  0.862  2017/1/3 10:59   \n",
       "3474  30008276  911010501  CDXL  15.42  0.481  2017/1/3 11:00   \n",
       "3475  30033854  910000000  CDXL   9.62  1.000  2017/1/3 11:17   \n",
       "3476  30206214  910000000  CDXL  15.62  1.000  2017/1/3 11:40   \n",
       "3477  30129510  925090000  CDXL  23.21  0.312  2017/1/3 11:50   \n",
       "\n",
       "                          订单ID  \n",
       "0     20170103CDLG000210052759  \n",
       "1     20170103CDLG000210052759  \n",
       "2     20170103CDLG000210052759  \n",
       "3     20170103CDLG000210052759  \n",
       "4     20170103CDLG000210052759  \n",
       "...                        ...  \n",
       "3473  20170103CDLG000510025147  \n",
       "3474  20170103CDLG000510025148  \n",
       "3475  20170103CDLG000510025149  \n",
       "3476  20170103CDLG000510025150  \n",
       "3477  20170103CDLG000510025151  \n",
       "\n",
       "[3478 rows x 7 columns]"
      ]
     },
     "execution_count": 4,
     "metadata": {},
     "output_type": "execute_result"
    }
   ],
   "source": [
    "data = pd.read_csv('order-14.3.csv', encoding = \"gbk\")\n",
    "data"
   ]
  },
  {
   "cell_type": "code",
   "execution_count": 5,
   "metadata": {},
   "outputs": [
    {
     "name": "stdout",
     "output_type": "stream",
     "text": [
      "<class 'pandas.core.frame.DataFrame'>\n",
      "RangeIndex: 3478 entries, 0 to 3477\n",
      "Data columns (total 7 columns):\n",
      " #   Column  Non-Null Count  Dtype  \n",
      "---  ------  --------------  -----  \n",
      " 0   商品ID    3478 non-null   int64  \n",
      " 1   类别ID    3478 non-null   int64  \n",
      " 2   门店编号    3478 non-null   object \n",
      " 3   单价      3478 non-null   float64\n",
      " 4   销量      3478 non-null   float64\n",
      " 5   成交时间    3478 non-null   object \n",
      " 6   订单ID    3478 non-null   object \n",
      "dtypes: float64(2), int64(2), object(3)\n",
      "memory usage: 190.3+ KB\n"
     ]
    }
   ],
   "source": [
    "data.info()"
   ]
  },
  {
   "cell_type": "markdown",
   "metadata": {},
   "source": [
    "##### 1. 哪些類別的商品比較暢銷？"
   ]
  },
  {
   "cell_type": "code",
   "execution_count": 12,
   "metadata": {},
   "outputs": [
    {
     "data": {
      "text/html": [
       "<div>\n",
       "<style scoped>\n",
       "    .dataframe tbody tr th:only-of-type {\n",
       "        vertical-align: middle;\n",
       "    }\n",
       "\n",
       "    .dataframe tbody tr th {\n",
       "        vertical-align: top;\n",
       "    }\n",
       "\n",
       "    .dataframe thead th {\n",
       "        text-align: right;\n",
       "    }\n",
       "</style>\n",
       "<table border=\"1\" class=\"dataframe\">\n",
       "  <thead>\n",
       "    <tr style=\"text-align: right;\">\n",
       "      <th></th>\n",
       "      <th>销量</th>\n",
       "    </tr>\n",
       "    <tr>\n",
       "      <th>类别ID</th>\n",
       "      <th></th>\n",
       "    </tr>\n",
       "  </thead>\n",
       "  <tbody>\n",
       "    <tr>\n",
       "      <th>922000003</th>\n",
       "      <td>425.328</td>\n",
       "    </tr>\n",
       "    <tr>\n",
       "      <th>922000002</th>\n",
       "      <td>206.424</td>\n",
       "    </tr>\n",
       "    <tr>\n",
       "      <th>923000006</th>\n",
       "      <td>190.294</td>\n",
       "    </tr>\n",
       "    <tr>\n",
       "      <th>915030104</th>\n",
       "      <td>175.059</td>\n",
       "    </tr>\n",
       "    <tr>\n",
       "      <th>922000001</th>\n",
       "      <td>121.355</td>\n",
       "    </tr>\n",
       "    <tr>\n",
       "      <th>960000000</th>\n",
       "      <td>121.000</td>\n",
       "    </tr>\n",
       "    <tr>\n",
       "      <th>920090000</th>\n",
       "      <td>111.565</td>\n",
       "    </tr>\n",
       "    <tr>\n",
       "      <th>923000002</th>\n",
       "      <td>91.847</td>\n",
       "    </tr>\n",
       "    <tr>\n",
       "      <th>922000000</th>\n",
       "      <td>86.395</td>\n",
       "    </tr>\n",
       "    <tr>\n",
       "      <th>923000000</th>\n",
       "      <td>85.845</td>\n",
       "    </tr>\n",
       "  </tbody>\n",
       "</table>\n",
       "</div>"
      ],
      "text/plain": [
       "                销量\n",
       "类别ID              \n",
       "922000003  425.328\n",
       "922000002  206.424\n",
       "923000006  190.294\n",
       "915030104  175.059\n",
       "922000001  121.355\n",
       "960000000  121.000\n",
       "920090000  111.565\n",
       "923000002   91.847\n",
       "922000000   86.395\n",
       "923000000   85.845"
      ]
     },
     "execution_count": 12,
     "metadata": {},
     "output_type": "execute_result"
    }
   ],
   "source": [
    " data.groupby(by = \"类别ID\")[[\"销量\"]].sum().sort_values(by = \"销量\", ascending = False).head(10)"
   ]
  },
  {
   "cell_type": "markdown",
   "metadata": {},
   "source": [
    "##### 2. 哪些商品比较畅销？"
   ]
  },
  {
   "cell_type": "code",
   "execution_count": 15,
   "metadata": {},
   "outputs": [
    {
     "data": {
      "text/plain": [
       "商品ID\n",
       "29989059    391.549\n",
       "29989072    102.876\n",
       "30022232    101.000\n",
       "30031960     99.998\n",
       "29989157     72.453\n",
       "30023041     64.416\n",
       "30026255     62.375\n",
       "29989058     56.052\n",
       "30027007     48.757\n",
       "30171264     45.000\n",
       "Name: 销量, dtype: float64"
      ]
     },
     "execution_count": 15,
     "metadata": {},
     "output_type": "execute_result"
    }
   ],
   "source": [
    "data.groupby(by = \"商品ID\")[\"销量\"].sum().sort_values(ascending = False).head(10) #返回Series"
   ]
  },
  {
   "cell_type": "code",
   "execution_count": 16,
   "metadata": {},
   "outputs": [
    {
     "data": {
      "text/html": [
       "<div>\n",
       "<style scoped>\n",
       "    .dataframe tbody tr th:only-of-type {\n",
       "        vertical-align: middle;\n",
       "    }\n",
       "\n",
       "    .dataframe tbody tr th {\n",
       "        vertical-align: top;\n",
       "    }\n",
       "\n",
       "    .dataframe thead th {\n",
       "        text-align: right;\n",
       "    }\n",
       "</style>\n",
       "<table border=\"1\" class=\"dataframe\">\n",
       "  <thead>\n",
       "    <tr style=\"text-align: right;\">\n",
       "      <th></th>\n",
       "      <th>商品ID</th>\n",
       "      <th>销量</th>\n",
       "    </tr>\n",
       "  </thead>\n",
       "  <tbody>\n",
       "    <tr>\n",
       "      <th>0</th>\n",
       "      <td>29989059</td>\n",
       "      <td>391.549</td>\n",
       "    </tr>\n",
       "    <tr>\n",
       "      <th>1</th>\n",
       "      <td>29989072</td>\n",
       "      <td>102.876</td>\n",
       "    </tr>\n",
       "    <tr>\n",
       "      <th>2</th>\n",
       "      <td>30022232</td>\n",
       "      <td>101.000</td>\n",
       "    </tr>\n",
       "    <tr>\n",
       "      <th>3</th>\n",
       "      <td>30031960</td>\n",
       "      <td>99.998</td>\n",
       "    </tr>\n",
       "    <tr>\n",
       "      <th>4</th>\n",
       "      <td>29989157</td>\n",
       "      <td>72.453</td>\n",
       "    </tr>\n",
       "    <tr>\n",
       "      <th>5</th>\n",
       "      <td>30023041</td>\n",
       "      <td>64.416</td>\n",
       "    </tr>\n",
       "    <tr>\n",
       "      <th>6</th>\n",
       "      <td>30026255</td>\n",
       "      <td>62.375</td>\n",
       "    </tr>\n",
       "    <tr>\n",
       "      <th>7</th>\n",
       "      <td>29989058</td>\n",
       "      <td>56.052</td>\n",
       "    </tr>\n",
       "    <tr>\n",
       "      <th>8</th>\n",
       "      <td>30027007</td>\n",
       "      <td>48.757</td>\n",
       "    </tr>\n",
       "    <tr>\n",
       "      <th>9</th>\n",
       "      <td>30171264</td>\n",
       "      <td>45.000</td>\n",
       "    </tr>\n",
       "  </tbody>\n",
       "</table>\n",
       "</div>"
      ],
      "text/plain": [
       "       商品ID       销量\n",
       "0  29989059  391.549\n",
       "1  29989072  102.876\n",
       "2  30022232  101.000\n",
       "3  30031960   99.998\n",
       "4  29989157   72.453\n",
       "5  30023041   64.416\n",
       "6  30026255   62.375\n",
       "7  29989058   56.052\n",
       "8  30027007   48.757\n",
       "9  30171264   45.000"
      ]
     },
     "execution_count": 16,
     "metadata": {},
     "output_type": "execute_result"
    }
   ],
   "source": [
    "data.groupby(by = \"商品ID\")[[\"销量\"]].sum().sort_values(by = \"销量\", ascending = False).reset_index().head(10)"
   ]
  },
  {
   "cell_type": "markdown",
   "metadata": {},
   "source": [
    "##### 3. 求不同門店的銷售額占比？"
   ]
  },
  {
   "cell_type": "code",
   "execution_count": 38,
   "metadata": {
    "scrolled": true
   },
   "outputs": [
    {
     "data": {
      "text/plain": [
       "门店编号\n",
       "CDLG    10908.82612\n",
       "CDNL     8059.47867\n",
       "CDXL     9981.76166\n",
       "Name: 销售额, dtype: float64"
      ]
     },
     "execution_count": 38,
     "metadata": {},
     "output_type": "execute_result"
    }
   ],
   "source": [
    "data[\"销售额\"] = data.单价 * data.销量\n",
    "data_fit = data.groupby(by = \"门店编号\")[\"销售额\"].sum()\n",
    "values"
   ]
  },
  {
   "cell_type": "code",
   "execution_count": 31,
   "metadata": {},
   "outputs": [],
   "source": [
    "#plt.rcParams['font.sans-serif'] = 'SimHei'"
   ]
  },
  {
   "cell_type": "code",
   "execution_count": 40,
   "metadata": {
    "scrolled": true
   },
   "outputs": [
    {
     "data": {
      "image/png": "[encoded data removed]",
      "text/plain": [
       "<Figure size 432x288 with 1 Axes>"
      ]
     },
     "metadata": {},
     "output_type": "display_data"
    }
   ],
   "source": [
    "plt.figure()\n",
    "labels = data_fit.index\n",
    "plt.pie(data_fit, autopct = '%1.1f%%', labels = labels)\n",
    "plt.show()"
   ]
  },
  {
   "cell_type": "markdown",
   "metadata": {},
   "source": [
    "##### 4. 那段時間是超市客流量高峰期？"
   ]
  },
  {
   "cell_type": "code",
   "execution_count": 49,
   "metadata": {},
   "outputs": [
    {
     "data": {
      "text/plain": [
       "小时值\n",
       "9     156\n",
       "10    143\n",
       "8     106\n",
       "17     73\n",
       "19     71\n",
       "18     71\n",
       "11     63\n",
       "16     50\n",
       "20     39\n",
       "7      37\n",
       "14     36\n",
       "13     30\n",
       "15     17\n",
       "21     16\n",
       "6      10\n",
       "Name: 订单ID, dtype: int64"
      ]
     },
     "execution_count": 49,
     "metadata": {},
     "output_type": "execute_result"
    }
   ],
   "source": [
    "data[\"小时值\"] = pd.to_datetime(data[\"成交时间\"]).dt.hour\n",
    "datafilterid = data.drop_duplicates(subset = ['订单ID'])\n",
    "datafilterid.groupby(by = \"小时值\")[\"订单ID\"].count().sort_values(ascending = False)"
   ]
  },
  {
   "cell_type": "code",
   "execution_count": null,
   "metadata": {},
   "outputs": [],
   "source": []
  }
 ],
 "metadata": {
  "kernelspec": {
   "display_name": "Python 3",
   "language": "python",
   "name": "python3"
  },
  "language_info": {
   "codemirror_mode": {
    "name": "ipython",
    "version": 3
   },
   "file_extension": ".py",
   "mimetype": "text/x-python",
   "name": "python",
   "nbconvert_exporter": "python",
   "pygments_lexer": "ipython3",
   "version": "3.8.2"
  }
 },
 "nbformat": 4,
 "nbformat_minor": 4
}
